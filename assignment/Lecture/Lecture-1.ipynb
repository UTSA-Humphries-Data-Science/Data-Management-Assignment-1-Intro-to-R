{
 "cells": [
  {
   "cell_type": "markdown",
   "id": "69ead280",
   "metadata": {},
   "source": [
    "# Lesson 1: Introduction to R, RStudio, and Data Import\n",
    "\n",
    "# 1. Introduction to R and RStudio\n",
    "# RStudio is an Integrated Development Environment (IDE) for R.\n",
    "# It provides a console, script editor, environment pane, and plots pane.\n"
   ]
  },
  {
   "cell_type": "code",
   "execution_count": null,
   "id": "eee46e8b",
   "metadata": {
    "vscode": {
     "languageId": "r"
    }
   },
   "outputs": [],
   "source": [
    "# 2. Basic R Syntax and Data Types\n",
    "\n",
    "# Variables\n",
    "x <- 10\n",
    "y = 5 # another way to assign\n"
   ]
  },
  {
   "cell_type": "code",
   "execution_count": null,
   "id": "30924c91",
   "metadata": {
    "vscode": {
     "languageId": "r"
    }
   },
   "outputs": [],
   "source": [
    "print(x)\n",
    "print(y)"
   ]
  },
  {
   "cell_type": "code",
   "execution_count": null,
   "id": "6aa49ea7",
   "metadata": {
    "vscode": {
     "languageId": "r"
    }
   },
   "outputs": [],
   "source": [
    "# Basic arithmetic operations\n",
    "sum_xy <- x + y\n",
    "diff_xy <- x - y\n",
    "prod_xy <- x * y\n",
    "div_xy <- x / y"
   ]
  },
  {
   "cell_type": "code",
   "execution_count": null,
   "id": "46aa6cd4",
   "metadata": {
    "vscode": {
     "languageId": "r"
    }
   },
   "outputs": [],
   "source": [
    "print(paste(\"Sum:\", sum_xy))\n",
    "print(paste(\"Difference:\", diff_xy))\n",
    "print(paste(\"Product:\", prod_xy))\n",
    "print(paste(\"Division:\", div_xy))"
   ]
  },
  {
   "cell_type": "code",
   "execution_count": null,
   "id": "1eae4b69",
   "metadata": {
    "vscode": {
     "languageId": "r"
    }
   },
   "outputs": [],
   "source": [
    "# Vectors (1D array of same data type)\n",
    "numbers <- c(1, 2, 3, 4, 5)\n",
    "fruits <- c(\"apple\", \"banana\", \"orange\")"
   ]
  },
  {
   "cell_type": "code",
   "execution_count": null,
   "id": "c8e8cca4",
   "metadata": {
    "vscode": {
     "languageId": "r"
    }
   },
   "outputs": [],
   "source": [
    "print(numbers)\n",
    "print(fruits)"
   ]
  },
  {
   "cell_type": "code",
   "execution_count": null,
   "id": "8fc59ac0",
   "metadata": {
    "vscode": {
     "languageId": "r"
    }
   },
   "outputs": [],
   "source": [
    "# Factors (for categorical data)\n",
    "colors <- factor(c(\"red\", \"green\", \"blue\", \"red\"))\n",
    "print(colors)"
   ]
  },
  {
   "cell_type": "code",
   "execution_count": null,
   "id": "f29005bd",
   "metadata": {
    "vscode": {
     "languageId": "r"
    }
   },
   "outputs": [],
   "source": [
    "# Lists (can contain different data types)\n",
    "my_list <- list(\"Name\" = \"Alice\", \"Age\" = 30, \"Numbers\" = c(1, 2, 3))\n",
    "print(my_list)"
   ]
  },
  {
   "cell_type": "code",
   "execution_count": null,
   "id": "8c2e8adf",
   "metadata": {
    "vscode": {
     "languageId": "r"
    }
   },
   "outputs": [],
   "source": [
    "# Data Frames (like a table or spreadsheet)\n",
    "data_frame_example <- data.frame(\n",
    "  ID = c(1, 2, 3),\n",
    "  Name = c(\"John\", \"Jane\", \"Mike\"),\n",
    "  Age = c(25, 30, 35)\n",
    ")\n",
    "print(data_frame_example)"
   ]
  },
  {
   "cell_type": "code",
   "execution_count": null,
   "id": "b9b6bfc4",
   "metadata": {
    "vscode": {
     "languageId": "r"
    }
   },
   "outputs": [],
   "source": [
    "# 3. Installing and Loading Packages\n",
    "# Packages extend R's functionality.\n",
    "# The 'tidyverse' is a collection of packages for data science.\n",
    "\n",
    "# Install if not already installed (run only once)\n",
    "# install.packages(\"tidyverse\")\n",
    "# install.packages(\"readxl\") # for reading Excel files\n",
    "\n"
   ]
  },
  {
   "cell_type": "code",
   "execution_count": null,
   "id": "7d62f438",
   "metadata": {
    "vscode": {
     "languageId": "r"
    }
   },
   "outputs": [],
   "source": [
    "# Load packages for use in the current session\n",
    "library(tidyverse)\n",
    "library(readxl)"
   ]
  },
  {
   "cell_type": "code",
   "execution_count": null,
   "id": "c03b439d",
   "metadata": {
    "vscode": {
     "languageId": "r"
    }
   },
   "outputs": [],
   "source": [
    "# 4. Setting up Working Directory\n",
    "# The working directory is where R will look for files and save files.\n",
    "\n",
    "# Get current working directory\n",
    "getwd()\n",
    "\n",
    "# Set working directory (replace with your desired path)\n",
    "# setwd(\"/home/ubuntu/r_code_examples/lesson_1\")\n",
    "# Verify the new working directory\n",
    "# getwd()   "
   ]
  },
  {
   "cell_type": "code",
   "execution_count": null,
   "id": "c3102828",
   "metadata": {
    "vscode": {
     "languageId": "r"
    }
   },
   "outputs": [],
   "source": [
    "# 5. Importing Data from CSV and Excel files\n",
    "\n",
    "# Create a dummy CSV file for demonstration\n",
    "dummy_csv_data <- \"ID,Product,Sales\n",
    "1,Laptop,1200\n",
    "2,Mouse,25\n",
    "3,Keyboard,75\n",
    "4,Monitor,300\"\n",
    "writeLines(dummy_csv_data, \"dummy_sales_data.csv\")"
   ]
  },
  {
   "cell_type": "code",
   "execution_count": null,
   "id": "3fb10283",
   "metadata": {
    "vscode": {
     "languageId": "r"
    }
   },
   "outputs": [],
   "source": [
    "# Import CSV file using readr (part of tidyverse)\n",
    "sales_data_csv <- read_csv(\"dummy_sales_data.csv\")\n",
    "print(sales_data_csv)\n"
   ]
  },
  {
   "cell_type": "code",
   "execution_count": null,
   "id": "0ad0eb8e",
   "metadata": {
    "vscode": {
     "languageId": "r"
    }
   },
   "outputs": [],
   "source": [
    "# Create a dummy Excel file (requires openxlsx or readxl to write)\n",
    "# For simplicity, we'll assume an Excel file exists or is created manually for the lesson.\n",
    "# If you need to create one programmatically for testing, you'd use a package like 'openxlsx'.\n",
    "# Example of creating a dummy Excel file (requires 'openxlsx' package)\n",
    "# install.packages(\"openxlsx\")\n",
    "# library(openxlsx)\n",
    "# dummy_excel_data <- data.frame(\n",
    "#   OrderID = c(101, 102, 103),\n",
    "#   Customer = c(\"Alice\", \"Bob\", \"Charlie\"),\n",
    "#   Amount = c(150.50, 200.00, 75.25)\n",
    "# )\n",
    "# write.xlsx(dummy_excel_data, \"dummy_orders_data.xlsx\")"
   ]
  },
  {
   "cell_type": "code",
   "execution_count": null,
   "id": "d05b1334",
   "metadata": {
    "vscode": {
     "languageId": "r"
    }
   },
   "outputs": [],
   "source": [
    "# For the purpose of this example, let's simulate reading an Excel file\n",
    "# Assume 'dummy_orders_data.xlsx' exists in the working directory\n",
    "# orders_data_excel <- read_excel(\"dummy_orders_data.xlsx\")\n",
    "# print(orders_data_excel)\n"
   ]
  },
  {
   "cell_type": "code",
   "execution_count": null,
   "id": "dd77b6e3",
   "metadata": {
    "vscode": {
     "languageId": "r"
    }
   },
   "outputs": [],
   "source": [
    "# 6. Basic Data Inspection\n",
    "\n",
    "# View the first few rows\n",
    "head(sales_data_csv)\n"
   ]
  },
  {
   "cell_type": "code",
   "execution_count": null,
   "id": "9b10cda2",
   "metadata": {
    "vscode": {
     "languageId": "r"
    }
   },
   "outputs": [],
   "source": [
    "# Get structure of the data frame\n",
    "str(sales_data_csv)"
   ]
  },
  {
   "cell_type": "code",
   "execution_count": null,
   "id": "87b680ea",
   "metadata": {
    "vscode": {
     "languageId": "r"
    }
   },
   "outputs": [],
   "source": [
    "# Get summary statistics\n",
    "summary(sales_data_csv)"
   ]
  },
  {
   "cell_type": "code",
   "execution_count": null,
   "id": "90a47747",
   "metadata": {
    "vscode": {
     "languageId": "r"
    }
   },
   "outputs": [],
   "source": [
    "# View the entire dataset in a spreadsheet-like viewer (RStudio specific)\n",
    "# View(sales_data_csv)"
   ]
  },
  {
   "cell_type": "code",
   "execution_count": null,
   "id": "1763fa8d",
   "metadata": {
    "vscode": {
     "languageId": "r"
    }
   },
   "outputs": [],
   "source": [
    "# Clean up dummy file\n",
    "file.remove(\"dummy_sales_data.csv\")"
   ]
  }
 ],
 "metadata": {
  "kernelspec": {
   "display_name": "R",
   "language": "R",
   "name": "ir"
  },
  "language_info": {
   "codemirror_mode": "r",
   "file_extension": ".r",
   "mimetype": "text/x-r-source",
   "name": "R",
   "pygments_lexer": "r",
   "version": "4.4.3"
  }
 },
 "nbformat": 4,
 "nbformat_minor": 5
}
